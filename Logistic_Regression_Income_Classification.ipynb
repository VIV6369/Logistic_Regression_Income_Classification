{
 "cells": [
  {
   "cell_type": "markdown",
   "id": "a53ec354",
   "metadata": {},
   "source": [
    "# Income Classification using Logistic Regression\n",
    "\n",
    "\n",
    "In this project, we will be using a dataset containing census information from the 1994 Census database to create a logistic regression model that predicts whether or not a person makes more than $50,000.\n",
    "\n",
    "Let’s get started!"
   ]
  },
  {
   "cell_type": "code",
   "execution_count": 1,
   "id": "db0da6ef",
   "metadata": {},
   "outputs": [],
   "source": [
    "#import libraries \n",
    "import pandas as pd\n",
    "import numpy as np\n",
    "from sklearn.model_selection import train_test_split\n",
    "from sklearn.linear_model import LogisticRegression\n",
    "from sklearn.metrics import confusion_matrix, classification_report, accuracy_score, precision_score, recall_score, f1_score, roc_curve, roc_auc_score\n",
    "from sklearn.preprocessing import StandardScaler\n",
    "\n",
    "\n",
    "import matplotlib.pyplot as plt\n",
    "import seaborn as sns\n",
    "\n",
    "# columns creation, since data has no header\n",
    "col_names = ['age', 'workclass', 'fnlwgt','education', 'education-num', \n",
    "'marital-status', 'occupation', 'relationship', 'race', 'sex',\n",
    "'capital-gain','capital-loss', 'hours-per-week','native-country', 'income']\n",
    "df = pd.read_csv('adult.csv',header = None, names = col_names)"
   ]
  },
  {
   "cell_type": "markdown",
   "id": "0e2199ca",
   "metadata": {},
   "source": [
    "#### Datasets\n",
    "\n",
    "The original data set is available at the UCI Machine Learning Repository.\n",
    "The dataset saved as a DataFrame named df. Some of the input and output features of interest are:\n",
    "* age: continuous\n",
    "* workclass: Private, Self-emp-not-inc, Self-emp-inc, Federal-gov, Local-gov, State-gov, Without-pay, Never-worked.\n",
    "* education: Bachelors, Some-college, 11th, HS-grad, Prof-school, Assoc-acdm, Assoc-voc, 9th, 7th-8th, 12th, Masters, 1st-4th, 10th, Doctorate, 5th-6th, Preschool\n",
    "* race: White, Asian-Pac-Islander, Amer-Indian-Eskimo, Other, Black\n",
    "* sex: Female, Male\n",
    "* capital-gain: continuous\n",
    "* capital-loss: continuous\n",
    "* hours-per-week: continuous\n",
    "* native country: discrete\n",
    "* income: discrete, >50K, <=50K"
   ]
  },
  {
   "cell_type": "code",
   "execution_count": 2,
   "id": "acccf93f",
   "metadata": {},
   "outputs": [
    {
     "data": {
      "text/html": [
       "<div>\n",
       "<style scoped>\n",
       "    .dataframe tbody tr th:only-of-type {\n",
       "        vertical-align: middle;\n",
       "    }\n",
       "\n",
       "    .dataframe tbody tr th {\n",
       "        vertical-align: top;\n",
       "    }\n",
       "\n",
       "    .dataframe thead th {\n",
       "        text-align: right;\n",
       "    }\n",
       "</style>\n",
       "<table border=\"1\" class=\"dataframe\">\n",
       "  <thead>\n",
       "    <tr style=\"text-align: right;\">\n",
       "      <th></th>\n",
       "      <th>age</th>\n",
       "      <th>workclass</th>\n",
       "      <th>fnlwgt</th>\n",
       "      <th>education</th>\n",
       "      <th>education-num</th>\n",
       "      <th>marital-status</th>\n",
       "      <th>occupation</th>\n",
       "      <th>relationship</th>\n",
       "      <th>race</th>\n",
       "      <th>sex</th>\n",
       "      <th>capital-gain</th>\n",
       "      <th>capital-loss</th>\n",
       "      <th>hours-per-week</th>\n",
       "      <th>native-country</th>\n",
       "      <th>income</th>\n",
       "    </tr>\n",
       "  </thead>\n",
       "  <tbody>\n",
       "    <tr>\n",
       "      <th>0</th>\n",
       "      <td>39</td>\n",
       "      <td>State-gov</td>\n",
       "      <td>77516</td>\n",
       "      <td>Bachelors</td>\n",
       "      <td>13</td>\n",
       "      <td>Never-married</td>\n",
       "      <td>Adm-clerical</td>\n",
       "      <td>Not-in-family</td>\n",
       "      <td>White</td>\n",
       "      <td>Male</td>\n",
       "      <td>2174</td>\n",
       "      <td>0</td>\n",
       "      <td>40</td>\n",
       "      <td>United-States</td>\n",
       "      <td>&lt;=50K</td>\n",
       "    </tr>\n",
       "    <tr>\n",
       "      <th>1</th>\n",
       "      <td>50</td>\n",
       "      <td>Self-emp-not-inc</td>\n",
       "      <td>83311</td>\n",
       "      <td>Bachelors</td>\n",
       "      <td>13</td>\n",
       "      <td>Married-civ-spouse</td>\n",
       "      <td>Exec-managerial</td>\n",
       "      <td>Husband</td>\n",
       "      <td>White</td>\n",
       "      <td>Male</td>\n",
       "      <td>0</td>\n",
       "      <td>0</td>\n",
       "      <td>13</td>\n",
       "      <td>United-States</td>\n",
       "      <td>&lt;=50K</td>\n",
       "    </tr>\n",
       "    <tr>\n",
       "      <th>2</th>\n",
       "      <td>38</td>\n",
       "      <td>Private</td>\n",
       "      <td>215646</td>\n",
       "      <td>HS-grad</td>\n",
       "      <td>9</td>\n",
       "      <td>Divorced</td>\n",
       "      <td>Handlers-cleaners</td>\n",
       "      <td>Not-in-family</td>\n",
       "      <td>White</td>\n",
       "      <td>Male</td>\n",
       "      <td>0</td>\n",
       "      <td>0</td>\n",
       "      <td>40</td>\n",
       "      <td>United-States</td>\n",
       "      <td>&lt;=50K</td>\n",
       "    </tr>\n",
       "    <tr>\n",
       "      <th>3</th>\n",
       "      <td>53</td>\n",
       "      <td>Private</td>\n",
       "      <td>234721</td>\n",
       "      <td>11th</td>\n",
       "      <td>7</td>\n",
       "      <td>Married-civ-spouse</td>\n",
       "      <td>Handlers-cleaners</td>\n",
       "      <td>Husband</td>\n",
       "      <td>Black</td>\n",
       "      <td>Male</td>\n",
       "      <td>0</td>\n",
       "      <td>0</td>\n",
       "      <td>40</td>\n",
       "      <td>United-States</td>\n",
       "      <td>&lt;=50K</td>\n",
       "    </tr>\n",
       "    <tr>\n",
       "      <th>4</th>\n",
       "      <td>28</td>\n",
       "      <td>Private</td>\n",
       "      <td>338409</td>\n",
       "      <td>Bachelors</td>\n",
       "      <td>13</td>\n",
       "      <td>Married-civ-spouse</td>\n",
       "      <td>Prof-specialty</td>\n",
       "      <td>Wife</td>\n",
       "      <td>Black</td>\n",
       "      <td>Female</td>\n",
       "      <td>0</td>\n",
       "      <td>0</td>\n",
       "      <td>40</td>\n",
       "      <td>Cuba</td>\n",
       "      <td>&lt;=50K</td>\n",
       "    </tr>\n",
       "  </tbody>\n",
       "</table>\n",
       "</div>"
      ],
      "text/plain": [
       "   age          workclass  fnlwgt   education  education-num  \\\n",
       "0   39          State-gov   77516   Bachelors             13   \n",
       "1   50   Self-emp-not-inc   83311   Bachelors             13   \n",
       "2   38            Private  215646     HS-grad              9   \n",
       "3   53            Private  234721        11th              7   \n",
       "4   28            Private  338409   Bachelors             13   \n",
       "\n",
       "        marital-status          occupation    relationship    race      sex  \\\n",
       "0        Never-married        Adm-clerical   Not-in-family   White     Male   \n",
       "1   Married-civ-spouse     Exec-managerial         Husband   White     Male   \n",
       "2             Divorced   Handlers-cleaners   Not-in-family   White     Male   \n",
       "3   Married-civ-spouse   Handlers-cleaners         Husband   Black     Male   \n",
       "4   Married-civ-spouse      Prof-specialty            Wife   Black   Female   \n",
       "\n",
       "   capital-gain  capital-loss  hours-per-week  native-country  income  \n",
       "0          2174             0              40   United-States   <=50K  \n",
       "1             0             0              13   United-States   <=50K  \n",
       "2             0             0              40   United-States   <=50K  \n",
       "3             0             0              40   United-States   <=50K  \n",
       "4             0             0              40            Cuba   <=50K  "
      ]
     },
     "execution_count": 2,
     "metadata": {},
     "output_type": "execute_result"
    }
   ],
   "source": [
    "df.head()"
   ]
  },
  {
   "cell_type": "code",
   "execution_count": 3,
   "id": "574aac82",
   "metadata": {},
   "outputs": [
    {
     "data": {
      "text/html": [
       "<div>\n",
       "<style scoped>\n",
       "    .dataframe tbody tr th:only-of-type {\n",
       "        vertical-align: middle;\n",
       "    }\n",
       "\n",
       "    .dataframe tbody tr th {\n",
       "        vertical-align: top;\n",
       "    }\n",
       "\n",
       "    .dataframe thead th {\n",
       "        text-align: right;\n",
       "    }\n",
       "</style>\n",
       "<table border=\"1\" class=\"dataframe\">\n",
       "  <thead>\n",
       "    <tr style=\"text-align: right;\">\n",
       "      <th></th>\n",
       "      <th>age</th>\n",
       "      <th>workclass</th>\n",
       "      <th>fnlwgt</th>\n",
       "      <th>education</th>\n",
       "      <th>education-num</th>\n",
       "      <th>marital-status</th>\n",
       "      <th>occupation</th>\n",
       "      <th>relationship</th>\n",
       "      <th>race</th>\n",
       "      <th>sex</th>\n",
       "      <th>capital-gain</th>\n",
       "      <th>capital-loss</th>\n",
       "      <th>hours-per-week</th>\n",
       "      <th>native-country</th>\n",
       "      <th>income</th>\n",
       "    </tr>\n",
       "  </thead>\n",
       "  <tbody>\n",
       "    <tr>\n",
       "      <th>0</th>\n",
       "      <td>39</td>\n",
       "      <td>State-gov</td>\n",
       "      <td>77516</td>\n",
       "      <td>Bachelors</td>\n",
       "      <td>13</td>\n",
       "      <td>Never-married</td>\n",
       "      <td>Adm-clerical</td>\n",
       "      <td>Not-in-family</td>\n",
       "      <td>White</td>\n",
       "      <td>Male</td>\n",
       "      <td>2174</td>\n",
       "      <td>0</td>\n",
       "      <td>40</td>\n",
       "      <td>United-States</td>\n",
       "      <td>&lt;=50K</td>\n",
       "    </tr>\n",
       "    <tr>\n",
       "      <th>1</th>\n",
       "      <td>50</td>\n",
       "      <td>Self-emp-not-inc</td>\n",
       "      <td>83311</td>\n",
       "      <td>Bachelors</td>\n",
       "      <td>13</td>\n",
       "      <td>Married-civ-spouse</td>\n",
       "      <td>Exec-managerial</td>\n",
       "      <td>Husband</td>\n",
       "      <td>White</td>\n",
       "      <td>Male</td>\n",
       "      <td>0</td>\n",
       "      <td>0</td>\n",
       "      <td>13</td>\n",
       "      <td>United-States</td>\n",
       "      <td>&lt;=50K</td>\n",
       "    </tr>\n",
       "    <tr>\n",
       "      <th>2</th>\n",
       "      <td>38</td>\n",
       "      <td>Private</td>\n",
       "      <td>215646</td>\n",
       "      <td>HS-grad</td>\n",
       "      <td>9</td>\n",
       "      <td>Divorced</td>\n",
       "      <td>Handlers-cleaners</td>\n",
       "      <td>Not-in-family</td>\n",
       "      <td>White</td>\n",
       "      <td>Male</td>\n",
       "      <td>0</td>\n",
       "      <td>0</td>\n",
       "      <td>40</td>\n",
       "      <td>United-States</td>\n",
       "      <td>&lt;=50K</td>\n",
       "    </tr>\n",
       "    <tr>\n",
       "      <th>3</th>\n",
       "      <td>53</td>\n",
       "      <td>Private</td>\n",
       "      <td>234721</td>\n",
       "      <td>11th</td>\n",
       "      <td>7</td>\n",
       "      <td>Married-civ-spouse</td>\n",
       "      <td>Handlers-cleaners</td>\n",
       "      <td>Husband</td>\n",
       "      <td>Black</td>\n",
       "      <td>Male</td>\n",
       "      <td>0</td>\n",
       "      <td>0</td>\n",
       "      <td>40</td>\n",
       "      <td>United-States</td>\n",
       "      <td>&lt;=50K</td>\n",
       "    </tr>\n",
       "    <tr>\n",
       "      <th>4</th>\n",
       "      <td>28</td>\n",
       "      <td>Private</td>\n",
       "      <td>338409</td>\n",
       "      <td>Bachelors</td>\n",
       "      <td>13</td>\n",
       "      <td>Married-civ-spouse</td>\n",
       "      <td>Prof-specialty</td>\n",
       "      <td>Wife</td>\n",
       "      <td>Black</td>\n",
       "      <td>Female</td>\n",
       "      <td>0</td>\n",
       "      <td>0</td>\n",
       "      <td>40</td>\n",
       "      <td>Cuba</td>\n",
       "      <td>&lt;=50K</td>\n",
       "    </tr>\n",
       "  </tbody>\n",
       "</table>\n",
       "</div>"
      ],
      "text/plain": [
       "   age         workclass  fnlwgt  education  education-num  \\\n",
       "0   39         State-gov   77516  Bachelors             13   \n",
       "1   50  Self-emp-not-inc   83311  Bachelors             13   \n",
       "2   38           Private  215646    HS-grad              9   \n",
       "3   53           Private  234721       11th              7   \n",
       "4   28           Private  338409  Bachelors             13   \n",
       "\n",
       "       marital-status         occupation   relationship   race     sex  \\\n",
       "0       Never-married       Adm-clerical  Not-in-family  White    Male   \n",
       "1  Married-civ-spouse    Exec-managerial        Husband  White    Male   \n",
       "2            Divorced  Handlers-cleaners  Not-in-family  White    Male   \n",
       "3  Married-civ-spouse  Handlers-cleaners        Husband  Black    Male   \n",
       "4  Married-civ-spouse     Prof-specialty           Wife  Black  Female   \n",
       "\n",
       "   capital-gain  capital-loss  hours-per-week native-country income  \n",
       "0          2174             0              40  United-States  <=50K  \n",
       "1             0             0              13  United-States  <=50K  \n",
       "2             0             0              40  United-States  <=50K  \n",
       "3             0             0              40  United-States  <=50K  \n",
       "4             0             0              40           Cuba  <=50K  "
      ]
     },
     "execution_count": 3,
     "metadata": {},
     "output_type": "execute_result"
    }
   ],
   "source": [
    "#Clean columns by stripping extra whitespace for columns of type \"object\"\n",
    "for c in df.select_dtypes(include=['object']).columns:\n",
    "    df[c] = df[c].str.strip()\n",
    "df.head()"
   ]
  },
  {
   "cell_type": "markdown",
   "id": "11531034",
   "metadata": {},
   "source": [
    "#### EDA and Logistic Regression Assumptions\n",
    "\n",
    " The outcome variable here is *income*. Let's check if the dataset is imbalanced. The outcome variable needs to be binary."
   ]
  },
  {
   "cell_type": "code",
   "execution_count": 4,
   "id": "a60c6636",
   "metadata": {},
   "outputs": [
    {
     "name": "stdout",
     "output_type": "stream",
     "text": [
      "<=50K    24720\n",
      ">50K      7841\n",
      "Name: income, dtype: int64\n"
     ]
    }
   ],
   "source": [
    "# Check Class Imbalance\n",
    "print(df.income.value_counts())"
   ]
  },
  {
   "cell_type": "markdown",
   "id": "c70d2267",
   "metadata": {},
   "source": [
    "We will create predictor variables dataframe as well will take a look at categorical predictors correlations. "
   ]
  },
  {
   "cell_type": "code",
   "execution_count": 5,
   "id": "98791708",
   "metadata": {},
   "outputs": [],
   "source": [
    "# Create feature dataframe X with feature columns and dummy variables for categorical features\n",
    "feature_cols = ['age','capital-gain', 'capital-loss', 'hours-per-week', 'sex','race', 'hours-per-week', 'education']\n",
    "X = pd.get_dummies(df[feature_cols], drop_first=True)\n"
   ]
  },
  {
   "cell_type": "code",
   "execution_count": 6,
   "id": "5212ad5d",
   "metadata": {},
   "outputs": [
    {
     "data": {
      "image/png": "[encoded data removed]",
      "text/plain": [
       "<Figure size 720x504 with 2 Axes>"
      ]
     },
     "metadata": {
      "needs_background": "light"
     },
     "output_type": "display_data"
    }
   ],
   "source": [
    "# Check logistic regression assumption: feature correlation\n",
    "plt.figure(figsize = (10,7))\n",
    "sns.heatmap(X.corr())\n",
    "plt.show()\n",
    "plt.close()"
   ]
  },
  {
   "cell_type": "markdown",
   "id": "f73c96b4",
   "metadata": {},
   "source": [
    "All the features are created from dummy variables, i.e. are 0 or 1, so scaling is not required for logistic regression.\n",
    "\n",
    "Prior to modeling we need to create output variable which is binary."
   ]
  },
  {
   "cell_type": "code",
   "execution_count": 7,
   "id": "1575d3f8",
   "metadata": {},
   "outputs": [],
   "source": [
    "# Create output variable y which is binary, 0 when income is less than 50k, 1 when it is greather than 50k\n",
    "df['income'] = df['income'].replace({'>50K':1,'<=50K':0})\n",
    "y = df['income']"
   ]
  },
  {
   "cell_type": "markdown",
   "id": "c2258e4d",
   "metadata": {},
   "source": [
    "#### Logistic Regression Models and Evaluation\n",
    "\n",
    "Select and Split the Data into Test and Train. Find model parameters."
   ]
  },
  {
   "cell_type": "code",
   "execution_count": 8,
   "id": "7045f6e5",
   "metadata": {},
   "outputs": [
    {
     "name": "stdout",
     "output_type": "stream",
     "text": [
      "Model Parameters, Intercept: [-5.55258926]\n",
      "Model Parameters, Coeff: [[ 3.63907551e-02  3.17477537e-04  6.31482089e-04  1.87729692e-02\n",
      "   1.18393274e-02  1.06025988e+00  0.00000000e+00 -2.84425558e-01\n",
      "   0.00000000e+00  7.58243934e-02 -5.21154696e-01  0.00000000e+00\n",
      "   0.00000000e+00 -2.57556339e-01 -8.99092213e-01 -4.69358961e-01\n",
      "   5.35314235e-01  5.54658633e-01  1.22850303e+00  1.73999962e+00\n",
      "   0.00000000e+00  1.59862370e+00  0.00000000e+00  1.84789611e+00\n",
      "   3.69818538e-01]]\n"
     ]
    }
   ],
   "source": [
    "# Split data into training and testing sets\n",
    "X_train, X_test, y_train, y_test = train_test_split(X,y, test_size=0.3, random_state=6)\n",
    "\n",
    "# Fit LR model with sklearn on train set, and predicting on the test set\n",
    "log_reg = LogisticRegression(C=0.05, penalty='l1', solver='liblinear')\n",
    "log_reg.fit(X_train, y_train.values.ravel())\n",
    "y_pred = log_reg.predict(X_test)\n",
    "\n",
    "# Print model parameters and coefficients\n",
    "print('Model Parameters, Intercept:', log_reg.intercept_)\n",
    "\n",
    "print('Model Parameters, Coeff:', log_reg.coef_)\n"
   ]
  },
  {
   "cell_type": "markdown",
   "id": "08df5d24",
   "metadata": {},
   "source": [
    "Let's bring up confusion matrix to see numers of True Positive, False Positive, True Negative and False Negative. As well accuracy score."
   ]
  },
  {
   "cell_type": "code",
   "execution_count": 9,
   "id": "590b488d",
   "metadata": {},
   "outputs": [
    {
     "name": "stdout",
     "output_type": "stream",
     "text": [
      "Confusion matrix: \n",
      "[[7060  319]\n",
      " [1441  949]]\n",
      "Accuracy score:  0.8198382638959976\n"
     ]
    }
   ],
   "source": [
    "# Print out the confusion matrix\n",
    "print(\"Confusion matrix: \")\n",
    "print(confusion_matrix(y_test,y_pred))\n",
    "\n",
    "# Print out accuracy\n",
    "print(\"Accuracy score: \", accuracy_score(y_test, y_pred))"
   ]
  },
  {
   "cell_type": "markdown",
   "id": "631a6142",
   "metadata": {},
   "source": [
    "Model coefficients for predictor variables in ascending order."
   ]
  },
  {
   "cell_type": "code",
   "execution_count": 10,
   "id": "e45510a3",
   "metadata": {},
   "outputs": [
    {
     "name": "stdout",
     "output_type": "stream",
     "text": [
      "                       var      coef\n",
      "14       education_7th-8th -0.899092\n",
      "10          education_11th -0.521155\n",
      "15           education_9th -0.469359\n",
      "7               race_Black -0.284426\n",
      "13       education_5th-6th -0.257556\n",
      "1             capital-gain  0.000317\n",
      "2             capital-loss  0.000631\n",
      "4           hours-per-week  0.011839\n",
      "3           hours-per-week  0.018773\n",
      "0                      age  0.036391\n",
      "9               race_White  0.075824\n",
      "24  education_Some-college  0.369819\n",
      "16    education_Assoc-acdm  0.535314\n",
      "17     education_Assoc-voc  0.554659\n",
      "5                 sex_Male  1.060260\n",
      "18     education_Bachelors  1.228503\n",
      "21       education_Masters  1.598624\n",
      "19     education_Doctorate  1.740000\n",
      "23   education_Prof-school  1.847896\n"
     ]
    }
   ],
   "source": [
    "# Create new DataFrame of the model coefficients and variable names; sort values based on coefficient\n",
    "mod_coef = pd.DataFrame(zip(X_train.columns, log_reg.coef_[0]), columns=['var', 'coef']).sort_values('coef')\n",
    "mod_coef = mod_coef[mod_coef.coef.abs()>0].sort_values('coef')\n",
    "print(mod_coef)"
   ]
  },
  {
   "cell_type": "markdown",
   "id": "d9cc57f8",
   "metadata": {},
   "source": [
    "Visualization of the variable coefficients."
   ]
  },
  {
   "cell_type": "code",
   "execution_count": 11,
   "id": "bca22abe",
   "metadata": {},
   "outputs": [
    {
     "data": {
      "image/png": "[encoded data removed]",
      "text/plain": [
       "<Figure size 720x504 with 1 Axes>"
      ]
     },
     "metadata": {
      "needs_background": "light"
     },
     "output_type": "display_data"
    },
    {
     "name": "stdout",
     "output_type": "stream",
     "text": [
      "From the chart above we can conclude that graduate degree has highest impact on the income.\n"
     ]
    }
   ],
   "source": [
    "plt.figure(figsize = (10,7))\n",
    "sns.barplot(data=mod_coef, x='coef', y='var')\n",
    "plt.title('LR Coefficient Values',size=16)\n",
    "plt.show()\n",
    "plt.close()\n",
    "print('From the chart above we can conclude that graduate degree has highest impact on the income.')"
   ]
  },
  {
   "cell_type": "markdown",
   "id": "d60a9562",
   "metadata": {},
   "source": [
    "Receiver Operating Characteristics (ROC) curve and AUC value."
   ]
  },
  {
   "cell_type": "code",
   "execution_count": 12,
   "id": "1ef940f6",
   "metadata": {},
   "outputs": [
    {
     "data": {
      "image/png": "[encoded data removed]",
      "text/plain": [
       "<Figure size 720x504 with 1 Axes>"
      ]
     },
     "metadata": {
      "needs_background": "light"
     },
     "output_type": "display_data"
    },
    {
     "name": "stdout",
     "output_type": "stream",
     "text": [
      "ROC AUC score: 0.8479504485475858\n"
     ]
    }
   ],
   "source": [
    "from sklearn.dummy import DummyClassifier\n",
    "# Plot the ROC curve and print the AUC value.\n",
    "# predicted probabilities\n",
    "y_pred_prob = log_reg.predict_proba(X_test)\n",
    "# Getting false positive and true positive values\n",
    "fpr,tpr,thresholds = roc_curve(y_test,y_pred_prob[:,1])\n",
    "# Plot the ROC curve\n",
    "plt.figure(figsize = (10,7))\n",
    "plt.plot(fpr,tpr,color='red',label='ROC curve')\n",
    "# DummyClassifier line\n",
    "clf = DummyClassifier(strategy='most_frequent', random_state=0)\n",
    "clf.fit(X_train, y_train)\n",
    "roc_auc = roc_auc_score(y_test, clf.predict_proba(X_test)[:,1] )\n",
    "fpr, tpr, thresholds = roc_curve(y_test, clf.predict_proba(X_test)[:,1])\n",
    "plt.plot(fpr, tpr, color='navy',linestyle='--', label='Dummy Classifier (most frequent) \\n (area = %0.2f)' % roc_auc)\n",
    "\n",
    "plt.xlabel('False Positive Rate', size=12)\n",
    "plt.ylabel('True Positive Rate',size=12)\n",
    "plt.grid()\n",
    "plt.title('ROC curve',size=16)\n",
    "plt.show()\n",
    "plt.close()\n",
    "\n",
    "# AUC scoce\n",
    "roc_auc = roc_auc_score(y_test,y_pred_prob[:,1])\n",
    "print(f'ROC AUC score: {roc_auc}')"
   ]
  },
  {
   "cell_type": "markdown",
   "id": "7dbd5bfd",
   "metadata": {},
   "source": [
    "Let's take a look now at some examples and try out our model."
   ]
  },
  {
   "cell_type": "code",
   "execution_count": 13,
   "id": "c3e12902",
   "metadata": {},
   "outputs": [
    {
     "name": "stdout",
     "output_type": "stream",
     "text": [
      "Whether or not a person makes more than $50,000? 1 Stands for Yes, 0 stands for No: [1]\n",
      "Probability of a person make more than $50,000 is: 0.9175737328264862\n",
      "Whether or not a person makes more than $50,000? 1 Stands for Yes, 0 stands for No: [0]\n",
      "Probability of a person make more than $50,000 is: 0.047260689906005286\n"
     ]
    }
   ],
   "source": [
    "# Example number 1. White female age of 52, education HS graduate\n",
    "white_female_52_hs = X[-1:]\n",
    "y_pred_1 = log_reg.predict(white_female_52_hs)\n",
    "y_pred_prob_1 = log_reg.predict_proba(white_female_52_hs)\n",
    "print('Whether or not a person makes more than $50,000? 1 Stands for Yes, 0 stands for No:',y_pred_1)\n",
    "print('Probability of a person make more than $50,000 is:', y_pred_prob_1[0][1])\n",
    "\n",
    "# Example number 2. White male 22 years of age, education HS graduate \n",
    "white_male_22_hs = X[-2:-1]\n",
    "y_pred_2 = log_reg.predict(white_male_22_hs)\n",
    "y_pred_prob_2 = log_reg.predict_proba(white_male_22_hs)\n",
    "print('Whether or not a person makes more than $50,000? 1 Stands for Yes, 0 stands for No:',y_pred_2)\n",
    "print('Probability of a person make more than $50,000 is:', y_pred_prob_2[0][1])"
   ]
  }
 ],
 "metadata": {
  "kernelspec": {
   "display_name": "Python 3 (ipykernel)",
   "language": "python",
   "name": "python3"
  },
  "language_info": {
   "codemirror_mode": {
    "name": "ipython",
    "version": 3
   },
   "file_extension": ".py",
   "mimetype": "text/x-python",
   "name": "python",
   "nbconvert_exporter": "python",
   "pygments_lexer": "ipython3",
   "version": "3.9.7"
  }
 },
 "nbformat": 4,
 "nbformat_minor": 5
}
